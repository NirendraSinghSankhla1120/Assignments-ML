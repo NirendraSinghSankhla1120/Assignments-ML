{
 "cells": [
  {
   "cell_type": "code",
   "execution_count": null,
   "metadata": {},
   "outputs": [],
   "source": [
    "\n",
    "\n",
    "## CIPHERSCHOOLS Assignment 1\n",
    "\n"
   ]
  },
  {
   "cell_type": "code",
   "execution_count": 10,
   "metadata": {},
   "outputs": [
    {
     "name": "stdout",
     "output_type": "stream",
     "text": [
      "enter list: 1234523675\n",
      "[1, 2, 3, 4, 5, 6, 7]\n"
     ]
    }
   ],
   "source": [
    "# Ques 1\n",
    "\n",
    "li=list(input(\"enter list: \"))\n",
    "for i in range(0,len(li)):\n",
    "    li[i]=int(li[i])\n",
    "a=set(li)\n",
    "li=list(a)\n",
    "print(li)\n",
    "\n"
   ]
  },
  {
   "cell_type": "code",
   "execution_count": 1,
   "metadata": {
    "scrolled": true
   },
   "outputs": [
    {
     "name": "stdout",
     "output_type": "stream",
     "text": [
      "enter the tuple: 142537\n",
      "('1', '4', '2', '5', '3', '7')\n",
      "6\n",
      "[1, 4, 2, 5, 3, 7]\n",
      "22\n",
      "1 7\n"
     ]
    }
   ],
   "source": [
    "# Ques 2\n",
    "\n",
    "tup=tuple(input(\"enter the tuple: \"))\n",
    "print(tup)\n",
    "print(len(tup))\n",
    "a=list(tup)\n",
    "for i in range(0,len(a)):\n",
    "    a[i]=int(a[i])\n",
    "print(a)\n",
    "su=sum(a)\n",
    "print(su)\n",
    "print(a[0],a[-1])"
   ]
  },
  {
   "cell_type": "code",
   "execution_count": 7,
   "metadata": {},
   "outputs": [
    {
     "name": "stdout",
     "output_type": "stream",
     "text": [
      "Enter Number: 13\n",
      "Enter ith bit: 2\n",
      "17\n"
     ]
    }
   ],
   "source": [
    "# Ques 3\n",
    "\n",
    "num=int(input(\"Enter Number: \"))\n",
    "ith=int(input(\"Enter ith bit: \"))\n",
    "mask=1<<ith\n",
    "op=num+mask\n",
    "print(op)"
   ]
  },
  {
   "cell_type": "code",
   "execution_count": 2,
   "metadata": {},
   "outputs": [
    {
     "name": "stdout",
     "output_type": "stream",
     "text": [
      "enter the num: 6\n",
      "0\n"
     ]
    }
   ],
   "source": [
    "# Ques 4\n",
    "\n",
    "arr=[0,1]\n",
    "num=int(input(\"enter the num: \"))\n",
    "print(arr[(num)%2])"
   ]
  },
  {
   "cell_type": "code",
   "execution_count": null,
   "metadata": {},
   "outputs": [],
   "source": [
    "\n"
   ]
  },
  {
   "cell_type": "code",
   "execution_count": 4,
   "metadata": {},
   "outputs": [
    {
     "name": "stdout",
     "output_type": "stream",
     "text": [
      "enter list 1: 13579\n",
      "enter list 2: 24680\n"
     ]
    },
    {
     "data": {
      "text/plain": [
       "['0', '1', '2', '3', '4', '5', '6', '7', '8', '9']"
      ]
     },
     "execution_count": 4,
     "metadata": {},
     "output_type": "execute_result"
    }
   ],
   "source": [
    "# Ques 5\n",
    "\n",
    "list_1=list(input(\"enter list 1: \"))\n",
    "list_2=list(input(\"enter list 2: \"))\n",
    "list_1=list_1+list_2\n",
    "list_1.sort()\n",
    "list_1"
   ]
  },
  {
   "cell_type": "code",
   "execution_count": 12,
   "metadata": {},
   "outputs": [
    {
     "name": "stdout",
     "output_type": "stream",
     "text": [
      "Enter Size of dictinary: 5\n",
      "Enter name: Hii\n",
      "Enter Marks: 50\n",
      "Enter name: Okay\n",
      "Enter Marks: 30\n",
      "Enter name: Hows\n",
      "Enter Marks: 80\n",
      "Enter name: Acha\n",
      "Enter Marks: 10\n",
      "Enter name: Cool\n",
      "Enter Marks: 20\n",
      "{'Hii': 50, 'Okay': 30, 'Hows': 80, 'Acha': 10, 'Cool': 20}\n",
      "{'Acha': 10, 'Cool': 20, 'Okay': 30, 'Hii': 50, 'Hows': 80}\n"
     ]
    }
   ],
   "source": [
    "# Ques 6\n",
    "\n",
    "\n",
    "a={}\n",
    "import operator as op\n",
    "b=int(input(\"Enter Size of dictinary: \"))\n",
    "for i in range(b):\n",
    "    name=input(\"Enter name: \")\n",
    "    marks=int(input(\"Enter Marks: \"))\n",
    "    a[name]=marks\n",
    "print(a)\n",
    "new_a=dict(sorted(a.items(),key=op.itemgetter(1)))\n",
    "print(new_a)"
   ]
  }
 ],
 "metadata": {
  "kernelspec": {
   "display_name": "Python 3",
   "language": "python",
   "name": "python3"
  },
  "language_info": {
   "codemirror_mode": {
    "name": "ipython",
    "version": 3
   },
   "file_extension": ".py",
   "mimetype": "text/x-python",
   "name": "python",
   "nbconvert_exporter": "python",
   "pygments_lexer": "ipython3",
   "version": "3.7.2"
  }
 },
 "nbformat": 4,
 "nbformat_minor": 4
}
